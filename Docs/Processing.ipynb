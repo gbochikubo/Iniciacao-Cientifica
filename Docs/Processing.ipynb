{
 "cells": [
  {
   "cell_type": "code",
   "execution_count": 7,
   "metadata": {},
   "outputs": [],
   "source": [
    "import spacy\n",
    "import random\n",
    "import plac\n",
    "from spacy.lang.pt.examples import sentences\n",
    "from spacy import displacy\n",
    "nlp = spacy.load('pt_core_news_sm')\n",
    "with open('Corpus.txt','r') as sentencas:\n",
    "    conteudo = sentencas.readlines()"
   ]
  },
  {
   "cell_type": "code",
   "execution_count": 18,
   "metadata": {},
   "outputs": [],
   "source": [
    "annotation = []\n",
    "for line in conteudo:\n",
    "    sentenca = nlp(line)\n",
    "    sentence_annotation = []\n",
    "    pos_annotation = []\n",
    "    tag_annotation = []\n",
    "    dep_annotation = []\n",
    "    for token in sentenca:\n",
    "        sentence_annotation.append(token.text.replace(',', '\",\"'))\n",
    "        pos_annotation.append(token.pos_)\n",
    "        tag_annotation.append(token.tag_)\n",
    "        dep_annotation.append(\"{} = {}\".format(token.dep_, token.head))\n",
    "    annotation.append((sentence_annotation, pos_annotation, tag_annotation, dep_annotation))"
   ]
  },
  {
   "cell_type": "code",
   "execution_count": 19,
   "metadata": {},
   "outputs": [],
   "source": [
    "with open('Sentencas.csv','w') as output:\n",
    "    for s, p, t, d in annotation:\n",
    "        output.write(\"{}\\n\".format(','.join(s)))\n",
    "        output.write(\"{}\\n\".format(','.join(p)))\n",
    "        output.write(\"{}\\n\".format(','.join(t)))\n",
    "        output.write(\"{}\\n\".format(','.join(d)))\n",
    "        output.write(\"\\n\")"
   ]
  },
  {
   "cell_type": "code",
   "execution_count": null,
   "metadata": {},
   "outputs": [],
   "source": []
  }
 ],
 "metadata": {
  "kernelspec": {
   "display_name": "Python 3",
   "language": "python",
   "name": "python3"
  },
  "language_info": {
   "codemirror_mode": {
    "name": "ipython",
    "version": 3
   },
   "file_extension": ".py",
   "mimetype": "text/x-python",
   "name": "python",
   "nbconvert_exporter": "python",
   "pygments_lexer": "ipython3",
   "version": "3.6.8"
  }
 },
 "nbformat": 4,
 "nbformat_minor": 4
}
